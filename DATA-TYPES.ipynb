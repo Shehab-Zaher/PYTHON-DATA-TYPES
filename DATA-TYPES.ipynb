{
 "cells": [
  {
   "cell_type": "code",
   "execution_count": null,
   "id": "3ee26c3a-83ca-4ac7-adf7-9947349a20a5",
   "metadata": {},
   "outputs": [],
   "source": [
    "#DATA TYPES\n",
    "# [1] NUMMMERIC TYPES\n",
    "# [2] SEQUENCE TYPES\n",
    "# [3] SET TYPES\n",
    "# [4] MAPPING TYPES\n",
    "# [5] BOOLEAN TYPES"
   ]
  },
  {
   "cell_type": "code",
   "execution_count": null,
   "id": "9e4ea45a-1b2c-404a-a948-488ff06349ee",
   "metadata": {},
   "outputs": [],
   "source": [
    "# [1] NUMMERIC TYPES [POSITUIVE - NEGATIVE - ZERO]\n",
    "#[INTEGER(int) - FLOATING(float) - COMPLEX(real + imag\n",
    "\n",
    "# [2] SEQUENCE TYPES\n",
    "# [SRTING(srt) - LIST(list) - TUPLE(tuple)]\n",
    "\n",
    "# [3] SET TYPES\n",
    "#[SET(set) - FROZENSET(frozenset)\n",
    "\n",
    "# [4] MAPPING TYPES\n",
    "#[DICTIONARIY(dict)]\n",
    "\n",
    "# [5] BOOLEAN TYPES\n",
    "#[TRUE - FALSE]"
   ]
  },
  {
   "cell_type": "code",
   "execution_count": 2,
   "id": "2cf1ae7d-9239-4361-bdbc-a813e7fe38da",
   "metadata": {},
   "outputs": [
    {
     "name": "stdout",
     "output_type": "stream",
     "text": [
      "<class 'int'>\n",
      "<class 'int'>\n",
      "<class 'int'>\n",
      "<class 'int'>\n"
     ]
    }
   ],
   "source": [
    "X = 10\n",
    "Y = 16\n",
    "Z = -18\n",
    "W = 0\n",
    "\n",
    "print(type(X))\n",
    "print(type(Y))\n",
    "print(type(Z))\n",
    "print(type(W))      "
   ]
  },
  {
   "cell_type": "code",
   "execution_count": null,
   "id": "491b71fb-8029-4891-9c97-3dd54e02f6b8",
   "metadata": {},
   "outputs": [],
   "source": [
    "# FLOATING POINT NUMBERS FLOAT"
   ]
  },
  {
   "cell_type": "code",
   "execution_count": 4,
   "id": "5f7fa7d5-30f9-4775-a4f2-a7ec23c68fbd",
   "metadata": {},
   "outputs": [
    {
     "name": "stdout",
     "output_type": "stream",
     "text": [
      "<class 'float'>\n"
     ]
    }
   ],
   "source": [
    "X= 10.5\n",
    "Y= -12.4\n",
    "print(type(Y and X))"
   ]
  },
  {
   "cell_type": "code",
   "execution_count": null,
   "id": "f060c519-cb8c-45ff-a6d3-060001b7c016",
   "metadata": {},
   "outputs": [],
   "source": [
    "# COMPLEX NUMBERS "
   ]
  },
  {
   "cell_type": "code",
   "execution_count": 5,
   "id": "186dd977-5dda-4cae-84ae-57c11900071b",
   "metadata": {},
   "outputs": [
    {
     "name": "stdout",
     "output_type": "stream",
     "text": [
      "<class 'complex'>\n"
     ]
    }
   ],
   "source": [
    "X= 3 + 4j\n",
    "print(type(X))"
   ]
  },
  {
   "cell_type": "code",
   "execution_count": 7,
   "id": "114463b9-977b-4c34-bf76-decf937da7b0",
   "metadata": {},
   "outputs": [
    {
     "name": "stdout",
     "output_type": "stream",
     "text": [
      "3.0\n"
     ]
    }
   ],
   "source": [
    "print(X.real)"
   ]
  },
  {
   "cell_type": "code",
   "execution_count": 8,
   "id": "edd1f7b3-75e3-445b-9d2e-813ab437c776",
   "metadata": {},
   "outputs": [
    {
     "name": "stdout",
     "output_type": "stream",
     "text": [
      "4.0\n"
     ]
    }
   ],
   "source": [
    "print(X.imag)"
   ]
  },
  {
   "cell_type": "code",
   "execution_count": null,
   "id": "fd7aea39-ad92-440d-a9f2-f161b43e5a14",
   "metadata": {},
   "outputs": [],
   "source": [
    "# CONVERTING (FLOAT - INT - COMPLEX)"
   ]
  },
  {
   "cell_type": "code",
   "execution_count": 9,
   "id": "97d798a5-bbe8-42b1-9259-6d0a523fc530",
   "metadata": {},
   "outputs": [
    {
     "name": "stdout",
     "output_type": "stream",
     "text": [
      "17.0\n"
     ]
    }
   ],
   "source": [
    "V = 17\n",
    "print(float(V))"
   ]
  },
  {
   "cell_type": "code",
   "execution_count": 10,
   "id": "1ba6841b-a11a-4aa8-abfd-fafba18f6dae",
   "metadata": {},
   "outputs": [
    {
     "name": "stdout",
     "output_type": "stream",
     "text": [
      "(17+0j)\n"
     ]
    }
   ],
   "source": [
    "print(complex(V))"
   ]
  },
  {
   "cell_type": "code",
   "execution_count": null,
   "id": "6cb38c64-b74c-4acc-93f3-1a9d97ec1886",
   "metadata": {},
   "outputs": [],
   "source": []
  },
  {
   "cell_type": "code",
   "execution_count": null,
   "id": "53343a35-5aad-448d-9966-e3760441ed94",
   "metadata": {},
   "outputs": [],
   "source": []
  },
  {
   "cell_type": "code",
   "execution_count": null,
   "id": "127da11e-9447-42d0-834d-1a9686dffe7d",
   "metadata": {},
   "outputs": [],
   "source": []
  },
  {
   "cell_type": "code",
   "execution_count": null,
   "id": "bc17f6a8-e174-460e-8ef4-2dbc6d0fc9e4",
   "metadata": {},
   "outputs": [],
   "source": []
  },
  {
   "cell_type": "code",
   "execution_count": null,
   "id": "dd965043-5a3b-4834-bb9f-a2291043e357",
   "metadata": {},
   "outputs": [],
   "source": []
  },
  {
   "cell_type": "code",
   "execution_count": null,
   "id": "8de421ae-06a2-44fb-8407-83b29c1c85c7",
   "metadata": {},
   "outputs": [],
   "source": []
  },
  {
   "cell_type": "code",
   "execution_count": null,
   "id": "ee1f4626-bae5-4c7d-8539-6f9c5569a854",
   "metadata": {},
   "outputs": [],
   "source": []
  },
  {
   "cell_type": "code",
   "execution_count": null,
   "id": "a9f99ee9-8218-4549-84c5-4280165cae59",
   "metadata": {},
   "outputs": [],
   "source": []
  },
  {
   "cell_type": "code",
   "execution_count": null,
   "id": "6e86b98e-cafd-402e-aaec-66ef804d73a2",
   "metadata": {},
   "outputs": [],
   "source": []
  },
  {
   "cell_type": "code",
   "execution_count": null,
   "id": "b2da01a3-f5f6-403f-9b31-26c45288a0e4",
   "metadata": {},
   "outputs": [],
   "source": []
  },
  {
   "cell_type": "code",
   "execution_count": null,
   "id": "5564fa81-a316-431d-a0f0-ba098793259e",
   "metadata": {},
   "outputs": [],
   "source": []
  },
  {
   "cell_type": "code",
   "execution_count": null,
   "id": "1a1d4002-1519-4439-9231-a1060641b21e",
   "metadata": {},
   "outputs": [],
   "source": []
  }
 ],
 "metadata": {
  "kernelspec": {
   "display_name": "Python 3 (ipykernel)",
   "language": "python",
   "name": "python3"
  },
  "language_info": {
   "codemirror_mode": {
    "name": "ipython",
    "version": 3
   },
   "file_extension": ".py",
   "mimetype": "text/x-python",
   "name": "python",
   "nbconvert_exporter": "python",
   "pygments_lexer": "ipython3",
   "version": "3.11.4"
  }
 },
 "nbformat": 4,
 "nbformat_minor": 5
}
